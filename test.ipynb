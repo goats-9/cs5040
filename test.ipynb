{
 "cells": [
  {
   "cell_type": "markdown",
   "metadata": {},
   "source": [
    "# Test Suite for Simplex Algorithm\n",
    "\n",
    "The following `.ipynb` file is to generate testcases to test the simplex implementations in this repository."
   ]
  },
  {
   "cell_type": "markdown",
   "metadata": {},
   "source": [
    "## Setup"
   ]
  },
  {
   "cell_type": "markdown",
   "metadata": {},
   "source": [
    "### Prerequisites"
   ]
  },
  {
   "cell_type": "code",
   "execution_count": 102,
   "metadata": {},
   "outputs": [
    {
     "name": "stdout",
     "output_type": "stream",
     "text": [
      "Requirement already satisfied: numpy in /home/goatsadmin/.pyvenv/lib/python3.10/site-packages (1.25.2)\n",
      "Requirement already satisfied: scipy in /home/goatsadmin/.pyvenv/lib/python3.10/site-packages (1.9.3)\n",
      "Requirement already satisfied: pandas in /home/goatsadmin/.pyvenv/lib/python3.10/site-packages (1.5.3)\n",
      "Requirement already satisfied: nbformat in /home/goatsadmin/.pyvenv/lib/python3.10/site-packages (5.9.2)\n",
      "Requirement already satisfied: pytz>=2020.1 in /home/goatsadmin/.pyvenv/lib/python3.10/site-packages (from pandas) (2023.3.post1)\n",
      "Requirement already satisfied: python-dateutil>=2.8.1 in /home/goatsadmin/.pyvenv/lib/python3.10/site-packages (from pandas) (2.8.2)\n",
      "Requirement already satisfied: jsonschema>=2.6 in /home/goatsadmin/.pyvenv/lib/python3.10/site-packages (from nbformat) (4.19.2)\n",
      "Requirement already satisfied: jupyter-core in /home/goatsadmin/.pyvenv/lib/python3.10/site-packages (from nbformat) (5.5.0)\n",
      "Requirement already satisfied: fastjsonschema in /home/goatsadmin/.pyvenv/lib/python3.10/site-packages (from nbformat) (2.19.0)\n",
      "Requirement already satisfied: traitlets>=5.1 in /home/goatsadmin/.pyvenv/lib/python3.10/site-packages (from nbformat) (5.13.0)\n",
      "Requirement already satisfied: referencing>=0.28.4 in /home/goatsadmin/.pyvenv/lib/python3.10/site-packages (from jsonschema>=2.6->nbformat) (0.30.2)\n",
      "Requirement already satisfied: jsonschema-specifications>=2023.03.6 in /home/goatsadmin/.pyvenv/lib/python3.10/site-packages (from jsonschema>=2.6->nbformat) (2023.7.1)\n",
      "Requirement already satisfied: rpds-py>=0.7.1 in /home/goatsadmin/.pyvenv/lib/python3.10/site-packages (from jsonschema>=2.6->nbformat) (0.10.6)\n",
      "Requirement already satisfied: attrs>=22.2.0 in /home/goatsadmin/.pyvenv/lib/python3.10/site-packages (from jsonschema>=2.6->nbformat) (23.1.0)\n",
      "Requirement already satisfied: six>=1.5 in /home/goatsadmin/.pyvenv/lib/python3.10/site-packages (from python-dateutil>=2.8.1->pandas) (1.16.0)\n",
      "Requirement already satisfied: platformdirs>=2.5 in /home/goatsadmin/.pyvenv/lib/python3.10/site-packages (from jupyter-core->nbformat) (3.11.0)\n",
      "Note: you may need to restart the kernel to use updated packages.\n"
     ]
    }
   ],
   "source": [
    "%pip install numpy scipy pandas nbformat\n",
    "\n",
    "import numpy as np\n",
    "import pandas as pd\n",
    "import scipy\n",
    "import nbformat"
   ]
  },
  {
   "cell_type": "markdown",
   "metadata": {},
   "source": [
    "### Parameters"
   ]
  },
  {
   "cell_type": "code",
   "execution_count": 103,
   "metadata": {},
   "outputs": [],
   "source": [
    "# Change parameters here\n",
    "TEST_FILE = 'data/input.csv'    # Path to input file\n",
    "rng = np.random.default_rng()   # Random number generator\n",
    "MAX_RANK = 5                    # Maximum rank of A\n",
    "MAX_VAL = 5                     # Threshold for generation"
   ]
  },
  {
   "cell_type": "markdown",
   "metadata": {},
   "source": [
    "## Generating $A$, $b$ and $c$"
   ]
  },
  {
   "cell_type": "code",
   "execution_count": 104,
   "metadata": {},
   "outputs": [],
   "source": [
    "# Rank of matrix (<= MAX_RANK)\n",
    "n = rng.integers(2,MAX_RANK)\n",
    "m = rng.integers(n,2*MAX_RANK)\n",
    "\n",
    "# Generating A\n",
    "U = rng.integers(-MAX_VAL, MAX_VAL, size=(m,m))\n",
    "S = np.zeros((m,n))\n",
    "S[:n, :n] = np.eye(n)\n",
    "V = rng.integers(-MAX_VAL, MAX_VAL, size=(n,n))\n",
    "A = U@S@V\n",
    "\n",
    "# Generating b\n",
    "b = rng.integers(-MAX_VAL, MAX_VAL, size=(m,))\n",
    "\n",
    "# Generating c\n",
    "c = rng.integers(-MAX_VAL, MAX_VAL, size=(n,))\n",
    "\n",
    "out_df = pd.DataFrame(np.zeros((m+1+n,n+1)))\n",
    "out_df.iloc[0, :n] = c\n",
    "out_df.iloc[1:m+1, 0:n] = A\n",
    "out_df.iloc[1:m+1, n] = b\n",
    "out_df.iloc[m+1:n+m+1, 0:n] = np.eye(n)\n",
    "out_df.to_csv(TEST_FILE, index=False)"
   ]
  },
  {
   "cell_type": "markdown",
   "metadata": {},
   "source": [
    "## Testing"
   ]
  },
  {
   "cell_type": "markdown",
   "metadata": {},
   "source": [
    "### Scipy Methods"
   ]
  },
  {
   "cell_type": "code",
   "execution_count": 105,
   "metadata": {},
   "outputs": [
    {
     "name": "stdout",
     "output_type": "stream",
     "text": [
      "           con: array([], dtype=float64)\n",
      " crossover_nit: 0\n",
      "         eqlin:  marginals: array([], dtype=float64)\n",
      "  residual: array([], dtype=float64)\n",
      "           fun: -0.26666666666666655\n",
      "       ineqlin:  marginals: array([-0.        , -0.06666667, -0.        , -0.        , -0.        ,\n",
      "       -0.8       , -0.        , -0.        , -0.        ])\n",
      "  residual: array([0.55555556, 0.        , 1.17777778, 4.33333333, 1.82222222,\n",
      "       0.        , 0.26666667, 2.48888889, 7.28888889])\n",
      "         lower:  marginals: array([ 0. , 15.4, 15.6,  0. ])\n",
      "  residual: array([0.26666667, 0.        , 0.        , 0.17777778])\n",
      "       message: 'Optimization terminated successfully. (HiGHS Status 7: Optimal)'\n",
      "           nit: 4\n",
      "         slack: array([0.55555556, 0.        , 1.17777778, 4.33333333, 1.82222222,\n",
      "       0.        , 0.26666667, 2.48888889, 7.28888889])\n",
      "        status: 0\n",
      "       success: True\n",
      "         upper:  marginals: array([0., 0., 0., 0.])\n",
      "  residual: array([inf, inf, inf, inf])\n",
      "             x: array([0.26666667, 0.        , 0.        , 0.17777778])\n"
     ]
    }
   ],
   "source": [
    "res = scipy.optimize.linprog(c, A_ub=A, b_ub=b)\n",
    "print(res)"
   ]
  },
  {
   "cell_type": "markdown",
   "metadata": {},
   "source": [
    "### Simplex Algorithm"
   ]
  },
  {
   "cell_type": "code",
   "execution_count": 106,
   "metadata": {},
   "outputs": [
    {
     "name": "stdout",
     "output_type": "stream",
     "text": [
      "Requirement already satisfied: numpy in /home/goatsadmin/.pyvenv/lib/python3.10/site-packages (1.25.2)\n",
      "Note: you may need to restart the kernel to use updated packages.\n",
      "[ 0.26221319 -0.01407687  0.03099042  0.14280182] 0.4763094200793882\n",
      "[ 0.24544651  0.00822281 -0.02802829  0.22864721] 0.6381078691423531\n",
      "[ 0.23770739  0.0841629  -0.20844646  0.45791855] 1.0410256410256395\n",
      "[ 0.23380713  0.15334448 -0.36560758  0.63528428] 1.3279821627647708\n",
      "[ 0.24858974  0.16019231 -0.3813141   0.66365385] 1.3885256410256406\n"
     ]
    }
   ],
   "source": [
    "%run '04/Assignment_4.ipynb'"
   ]
  }
 ],
 "metadata": {
  "kernelspec": {
   "display_name": ".pyvenv",
   "language": "python",
   "name": "python3"
  },
  "language_info": {
   "codemirror_mode": {
    "name": "ipython",
    "version": 3
   },
   "file_extension": ".py",
   "mimetype": "text/x-python",
   "name": "python",
   "nbconvert_exporter": "python",
   "pygments_lexer": "ipython3",
   "version": "3.10.12"
  }
 },
 "nbformat": 4,
 "nbformat_minor": 2
}
