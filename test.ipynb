{
 "cells": [
  {
   "cell_type": "markdown",
   "metadata": {},
   "source": [
    "# Test Suite for Simplex Algorithm\n",
    "\n",
    "The following `.ipynb` file is to generate testcases to test the simplex implementations in this repository."
   ]
  },
  {
   "cell_type": "markdown",
   "metadata": {},
   "source": [
    "## Setup"
   ]
  },
  {
   "cell_type": "markdown",
   "metadata": {},
   "source": [
    "### Prerequisites"
   ]
  },
  {
   "cell_type": "code",
   "execution_count": 58,
   "metadata": {},
   "outputs": [
    {
     "name": "stdout",
     "output_type": "stream",
     "text": [
      "Requirement already satisfied: numpy in /home/goatsadmin/.pyvenv/lib/python3.10/site-packages (1.25.2)\n",
      "Requirement already satisfied: scipy in /home/goatsadmin/.pyvenv/lib/python3.10/site-packages (1.9.3)\n",
      "Requirement already satisfied: pandas in /home/goatsadmin/.pyvenv/lib/python3.10/site-packages (1.5.3)\n",
      "Requirement already satisfied: nbformat in /home/goatsadmin/.pyvenv/lib/python3.10/site-packages (5.9.2)\n",
      "Requirement already satisfied: pickleshare in /home/goatsadmin/.pyvenv/lib/python3.10/site-packages (0.7.5)\n",
      "Requirement already satisfied: python-dateutil>=2.8.1 in /home/goatsadmin/.pyvenv/lib/python3.10/site-packages (from pandas) (2.8.2)\n",
      "Requirement already satisfied: pytz>=2020.1 in /home/goatsadmin/.pyvenv/lib/python3.10/site-packages (from pandas) (2023.3.post1)\n",
      "Requirement already satisfied: traitlets>=5.1 in /home/goatsadmin/.pyvenv/lib/python3.10/site-packages (from nbformat) (5.13.0)\n",
      "Requirement already satisfied: fastjsonschema in /home/goatsadmin/.pyvenv/lib/python3.10/site-packages (from nbformat) (2.19.0)\n",
      "Requirement already satisfied: jsonschema>=2.6 in /home/goatsadmin/.pyvenv/lib/python3.10/site-packages (from nbformat) (4.19.2)\n",
      "Requirement already satisfied: jupyter-core in /home/goatsadmin/.pyvenv/lib/python3.10/site-packages (from nbformat) (5.5.0)\n",
      "Requirement already satisfied: rpds-py>=0.7.1 in /home/goatsadmin/.pyvenv/lib/python3.10/site-packages (from jsonschema>=2.6->nbformat) (0.10.6)\n",
      "Requirement already satisfied: attrs>=22.2.0 in /home/goatsadmin/.pyvenv/lib/python3.10/site-packages (from jsonschema>=2.6->nbformat) (23.1.0)\n",
      "Requirement already satisfied: referencing>=0.28.4 in /home/goatsadmin/.pyvenv/lib/python3.10/site-packages (from jsonschema>=2.6->nbformat) (0.30.2)\n",
      "Requirement already satisfied: jsonschema-specifications>=2023.03.6 in /home/goatsadmin/.pyvenv/lib/python3.10/site-packages (from jsonschema>=2.6->nbformat) (2023.7.1)\n",
      "Requirement already satisfied: six>=1.5 in /home/goatsadmin/.pyvenv/lib/python3.10/site-packages (from python-dateutil>=2.8.1->pandas) (1.16.0)\n",
      "Requirement already satisfied: platformdirs>=2.5 in /home/goatsadmin/.pyvenv/lib/python3.10/site-packages (from jupyter-core->nbformat) (3.11.0)\n",
      "Note: you may need to restart the kernel to use updated packages.\n"
     ]
    }
   ],
   "source": [
    "%pip install numpy scipy pandas nbformat pickleshare\n",
    "\n",
    "import numpy as np\n",
    "import pandas as pd\n",
    "import scipy\n",
    "import nbformat\n",
    "import pickleshare"
   ]
  },
  {
   "cell_type": "markdown",
   "metadata": {},
   "source": [
    "### Parameters"
   ]
  },
  {
   "cell_type": "code",
   "execution_count": 59,
   "metadata": {},
   "outputs": [],
   "source": [
    "# Change parameters here\n",
    "TEST_FILE = 'data/input.csv'                # Path to input file\n",
    "TEST_START_FILE = 'data/input_start.csv'    # Path to input file\n",
    "rng = np.random.default_rng()               # Random number generator\n",
    "MAX_RANK = 3                                # Maximum rank of A\n",
    "MAX_VAL = 5                                 # Threshold for generation"
   ]
  },
  {
   "cell_type": "markdown",
   "metadata": {},
   "source": [
    "## Generating $A$, $b$ and $c$"
   ]
  },
  {
   "cell_type": "code",
   "execution_count": 60,
   "metadata": {},
   "outputs": [],
   "source": [
    "# Rank of matrix (<= MAX_RANK)\n",
    "n = rng.integers(2,MAX_RANK)\n",
    "m = rng.integers(n,2*MAX_RANK)\n",
    "\n",
    "# Generate LP start point\n",
    "z = rng.integers(-MAX_VAL, MAX_VAL, (n,))\n",
    "\n",
    "# Generating A\n",
    "U = rng.integers(-MAX_VAL, MAX_VAL, size=(m,m))\n",
    "S = np.zeros((m,n))\n",
    "S[:n, :n] = np.eye(n)\n",
    "V = rng.integers(-MAX_VAL, MAX_VAL, size=(n,n))\n",
    "A = U@S@V\n",
    "\n",
    "# Generating b\n",
    "b = A@z + rng.uniform(0,MAX_VAL,size=(m,))\n",
    "\n",
    "# Generating c\n",
    "c = rng.integers(-MAX_VAL, MAX_VAL, size=(n,))\n",
    "\n",
    "out_df = pd.DataFrame(np.zeros((m+2,n+1)))\n",
    "out_df.iloc[0, :n] = z\n",
    "out_df.iloc[1, :n] = c\n",
    "out_df.iloc[2:m+2, 0:n] = A\n",
    "out_df.iloc[2:m+2, n] = b\n",
    "out_df.to_csv(TEST_START_FILE, index=False, header=False)\n",
    "out_df.iloc[1:, :].to_csv(TEST_FILE, index=False, header=False)"
   ]
  },
  {
   "cell_type": "markdown",
   "metadata": {},
   "source": [
    "## Testing"
   ]
  },
  {
   "cell_type": "markdown",
   "metadata": {},
   "source": [
    "### Scipy Methods"
   ]
  },
  {
   "cell_type": "code",
   "execution_count": 61,
   "metadata": {},
   "outputs": [
    {
     "name": "stdout",
     "output_type": "stream",
     "text": [
      "           con: None\n",
      " crossover_nit: 0\n",
      "         eqlin:  marginals: None\n",
      "  residual: None\n",
      "           fun: None\n",
      "       ineqlin:  marginals: None\n",
      "  residual: None\n",
      "         lower:  marginals: None\n",
      "  residual: None\n",
      "       message: 'The problem is infeasible. (HiGHS Status 8: model_status is Infeasible; primal_status is At lower/fixed bound)'\n",
      "           nit: 0\n",
      "         slack: None\n",
      "        status: 2\n",
      "       success: False\n",
      "         upper:  marginals: None\n",
      "  residual: None\n",
      "             x: None\n"
     ]
    }
   ],
   "source": [
    "res = scipy.optimize.linprog(c, A_ub=A, b_ub=b, options={'disp': True})\n",
    "print(res)"
   ]
  },
  {
   "cell_type": "markdown",
   "metadata": {},
   "source": [
    "### Simplex Algorithm"
   ]
  },
  {
   "cell_type": "code",
   "execution_count": 62,
   "metadata": {},
   "outputs": [
    {
     "name": "stderr",
     "output_type": "stream",
     "text": [
      "[NbClientApp] Executing Assignment_3.ipynb\n",
      "[NbClientApp] Executing notebook with kernel: python3\n",
      "Traceback (most recent call last):\n",
      "  File \"/home/goatsadmin/.pyvenv/bin/jupyter-execute\", line 8, in <module>\n",
      "    sys.exit(main())\n",
      "  File \"/home/goatsadmin/.pyvenv/lib/python3.10/site-packages/jupyter_core/application.py\", line 280, in launch_instance\n",
      "    super().launch_instance(argv=argv, **kwargs)\n",
      "  File \"/home/goatsadmin/.pyvenv/lib/python3.10/site-packages/traitlets/config/application.py\", line 1052, in launch_instance\n",
      "    app.initialize(argv)\n",
      "  File \"/home/goatsadmin/.pyvenv/lib/python3.10/site-packages/traitlets/config/application.py\", line 117, in inner\n",
      "    return method(app, *args, **kwargs)\n",
      "  File \"/home/goatsadmin/.pyvenv/lib/python3.10/site-packages/nbclient/cli.py\", line 120, in initialize\n",
      "    self.run_notebook(path)\n",
      "  File \"/home/goatsadmin/.pyvenv/lib/python3.10/site-packages/nbclient/cli.py\", line 163, in run_notebook\n",
      "    client.execute()\n",
      "  File \"/home/goatsadmin/.pyvenv/lib/python3.10/site-packages/jupyter_core/utils/__init__.py\", line 173, in wrapped\n",
      "    return loop.run_until_complete(inner)\n",
      "  File \"/usr/lib/python3.10/asyncio/base_events.py\", line 649, in run_until_complete\n",
      "    return future.result()\n",
      "  File \"/home/goatsadmin/.pyvenv/lib/python3.10/site-packages/nbclient/client.py\", line 709, in async_execute\n",
      "    await self.async_execute_cell(\n",
      "  File \"/home/goatsadmin/.pyvenv/lib/python3.10/site-packages/nbclient/client.py\", line 1062, in async_execute_cell\n",
      "    await self._check_raise_for_error(cell, cell_index, exec_reply)\n",
      "  File \"/home/goatsadmin/.pyvenv/lib/python3.10/site-packages/nbclient/client.py\", line 918, in _check_raise_for_error\n",
      "    raise CellExecutionError.from_cell_and_msg(cell, exec_reply_content)\n",
      "nbclient.exceptions.CellExecutionError: An error occurred while executing the following cell:\n",
      "------------------\n",
      "if __name__ == \"__main__\":\n",
      "    A, b, c, X = handle_input(INPUT_FILE, DELIMITER)\n",
      "    A, b, c = perturb(A, b, c,X)\n",
      "    simplex(A, b, c, X)\n",
      "------------------\n",
      "\n",
      "\n",
      "\u001b[0;31m---------------------------------------------------------------------------\u001b[0m\n",
      "\u001b[0;31mRuntimeError\u001b[0m                              Traceback (most recent call last)\n",
      "Cell \u001b[0;32mIn[6], line 3\u001b[0m\n",
      "\u001b[1;32m      1\u001b[0m \u001b[38;5;28;01mif\u001b[39;00m \u001b[38;5;18m__name__\u001b[39m \u001b[38;5;241m==\u001b[39m \u001b[38;5;124m\"\u001b[39m\u001b[38;5;124m__main__\u001b[39m\u001b[38;5;124m\"\u001b[39m:\n",
      "\u001b[1;32m      2\u001b[0m     A, b, c, X \u001b[38;5;241m=\u001b[39m handle_input(INPUT_FILE, DELIMITER)\n",
      "\u001b[0;32m----> 3\u001b[0m     A, b, c \u001b[38;5;241m=\u001b[39m \u001b[43mperturb\u001b[49m\u001b[43m(\u001b[49m\u001b[43mA\u001b[49m\u001b[43m,\u001b[49m\u001b[43m \u001b[49m\u001b[43mb\u001b[49m\u001b[43m,\u001b[49m\u001b[43m \u001b[49m\u001b[43mc\u001b[49m\u001b[43m,\u001b[49m\u001b[43mX\u001b[49m\u001b[43m)\u001b[49m\n",
      "\u001b[1;32m      4\u001b[0m     simplex(A, b, c, X)\n",
      "\n",
      "Cell \u001b[0;32mIn[4], line 47\u001b[0m, in \u001b[0;36mperturb\u001b[0;34m(A, b, c, X_check, eps, n_iter)\u001b[0m\n",
      "\u001b[1;32m     45\u001b[0m     n_iter \u001b[38;5;241m-\u001b[39m\u001b[38;5;241m=\u001b[39m \u001b[38;5;241m1\u001b[39m\n",
      "\u001b[1;32m     46\u001b[0m \u001b[38;5;66;03m# Raise error if perturbation fails\u001b[39;00m\n",
      "\u001b[0;32m---> 47\u001b[0m \u001b[38;5;28;01mraise\u001b[39;00m \u001b[38;5;167;01mRuntimeError\u001b[39;00m(\u001b[38;5;124m'\u001b[39m\u001b[38;5;124mCould not perturb the linear programming problem\u001b[39m\u001b[38;5;124m'\u001b[39m)\n",
      "\n",
      "\u001b[0;31mRuntimeError\u001b[0m: Could not perturb the linear programming problem\n",
      "\n"
     ]
    }
   ],
   "source": [
    "%%bash\n",
    "\n",
    "cd '03'\n",
    "jupyter execute 'Assignment_3.ipynb'\n",
    "cd '..'"
   ]
  }
 ],
 "metadata": {
  "kernelspec": {
   "display_name": ".pyvenv",
   "language": "python",
   "name": "python3"
  },
  "language_info": {
   "codemirror_mode": {
    "name": "ipython",
    "version": 3
   },
   "file_extension": ".py",
   "mimetype": "text/x-python",
   "name": "python",
   "nbconvert_exporter": "python",
   "pygments_lexer": "ipython3",
   "version": "3.10.12"
  }
 },
 "nbformat": 4,
 "nbformat_minor": 2
}
