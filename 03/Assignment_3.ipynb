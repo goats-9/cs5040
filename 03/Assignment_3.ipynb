{
 "cells": [
  {
   "cell_type": "markdown",
   "metadata": {},
   "source": [
    "# Linear Optimization (CS5040) Assignment 4\n",
    "\n",
    "## Authors\n",
    "\n",
    "| Name | Roll Number |\n",
    "|-|-|\n",
    "| Gautam Singh | CS21BTECH11018 |\n",
    "| Varun Gupta | CS21BTECH11060 |\n",
    "| Anshul Sangrame | CS21BTECH11004 |"
   ]
  },
  {
   "cell_type": "markdown",
   "metadata": {},
   "source": [
    "## Setup"
   ]
  },
  {
   "cell_type": "code",
   "execution_count": 13,
   "metadata": {},
   "outputs": [
    {
     "name": "stdout",
     "output_type": "stream",
     "text": [
      "Requirement already satisfied: numpy in /home/anshul/programming/Linear Optimization/venv/lib/python3.8/site-packages (1.24.4)\n",
      "Note: you may need to restart the kernel to use updated packages.\n"
     ]
    }
   ],
   "source": [
    "# Install libraries\n",
    "%pip install numpy\n",
    "\n",
    "# Import libraries\n",
    "import numpy as np"
   ]
  },
  {
   "cell_type": "code",
   "execution_count": 14,
   "metadata": {},
   "outputs": [],
   "source": [
    "# Parameters to run the program go here\n",
    "INPUT_FILE = '../data/input.csv'    # Input file path\n",
    "DELIMITER = ','                     # Delimiter in input file\n",
    "EPS = 1e-6                          # Threshold for perturbation"
   ]
  },
  {
   "cell_type": "markdown",
   "metadata": {},
   "source": [
    "## Input Handling"
   ]
  },
  {
   "cell_type": "code",
   "execution_count": 15,
   "metadata": {},
   "outputs": [],
   "source": [
    "def read_csv():\n",
    "    \"\"\"\n",
    "    Initialize from an input CSV file.\n",
    "    \"\"\"\n",
    "    # Take input from CSV file into numpy array\n",
    "    input_arr = np.genfromtxt(INPUT_FILE, delimiter=DELIMITER, skip_header=0)\n",
    "\n",
    "    # Values of A, b, c ,z\n",
    "    A = input_arr[2:, :-1]\n",
    "    b = input_arr[2:, -1]\n",
    "    c = input_arr[1, :-1]\n",
    "    X = input_arr[0,:-1]\n",
    "\n",
    "    # Check for bad inputs, and exit if found\n",
    "    if np.isnan(A).any():\n",
    "        print(\"ERROR: Array A contains bad input\")\n",
    "        exit(-1)\n",
    "    if np.isnan(b).any():\n",
    "        print(\"ERROR: Array b contains bad input\")\n",
    "        exit(-1)\n",
    "    if np.isnan(c).any():\n",
    "        print(\"ERROR: Array c contains bad input\")\n",
    "        exit(-1)\n",
    "    if np.isnan(X).any():\n",
    "        print(\"ERROR: Array c contains bad input\")\n",
    "        exit(-1)\n",
    "\n",
    "    return (A,b,c,X)"
   ]
  },
  {
   "cell_type": "markdown",
   "metadata": {},
   "source": [
    "## Finding an Initial Point"
   ]
  },
  {
   "cell_type": "code",
   "execution_count": 16,
   "metadata": {},
   "outputs": [
    {
     "ename": "KeyboardInterrupt",
     "evalue": "",
     "output_type": "error",
     "traceback": [
      "\u001b[0;31m---------------------------------------------------------------------------\u001b[0m",
      "\u001b[0;31mKeyboardInterrupt\u001b[0m                         Traceback (most recent call last)",
      "\u001b[1;32m/home/anshul/programming/Linear Optimization/03/Assignment_3.ipynb Cell 8\u001b[0m line \u001b[0;36m1\n\u001b[1;32m    <a href='vscode-notebook-cell:/home/anshul/programming/Linear%20Optimization/03/Assignment_3.ipynb#X11sZmlsZQ%3D%3D?line=124'>125</a>\u001b[0m     \u001b[39mprint\u001b[39m(\u001b[39m'\u001b[39m\u001b[39mThe Maximum Value is: \u001b[39m\u001b[39m'\u001b[39m, np\u001b[39m.\u001b[39mdot(c, X))\n\u001b[1;32m    <a href='vscode-notebook-cell:/home/anshul/programming/Linear%20Optimization/03/Assignment_3.ipynb#X11sZmlsZQ%3D%3D?line=127'>128</a>\u001b[0m \u001b[39mif\u001b[39;00m \u001b[39m__name__\u001b[39m \u001b[39m==\u001b[39m \u001b[39m\"\u001b[39m\u001b[39m__main__\u001b[39m\u001b[39m\"\u001b[39m:\n\u001b[0;32m--> <a href='vscode-notebook-cell:/home/anshul/programming/Linear%20Optimization/03/Assignment_3.ipynb#X11sZmlsZQ%3D%3D?line=128'>129</a>\u001b[0m     main()\n",
      "\u001b[1;32m/home/anshul/programming/Linear Optimization/03/Assignment_3.ipynb Cell 8\u001b[0m line \u001b[0;36m1\n\u001b[1;32m    <a href='vscode-notebook-cell:/home/anshul/programming/Linear%20Optimization/03/Assignment_3.ipynb#X11sZmlsZQ%3D%3D?line=114'>115</a>\u001b[0m A,b,c,X \u001b[39m=\u001b[39m read_csv()\n\u001b[1;32m    <a href='vscode-notebook-cell:/home/anshul/programming/Linear%20Optimization/03/Assignment_3.ipynb#X11sZmlsZQ%3D%3D?line=116'>117</a>\u001b[0m \u001b[39m# Change Input to non degenerate\u001b[39;00m\n\u001b[0;32m--> <a href='vscode-notebook-cell:/home/anshul/programming/Linear%20Optimization/03/Assignment_3.ipynb#X11sZmlsZQ%3D%3D?line=117'>118</a>\u001b[0m A,b,c \u001b[39m=\u001b[39m make_non_degenerate(A,b,c)\n\u001b[1;32m    <a href='vscode-notebook-cell:/home/anshul/programming/Linear%20Optimization/03/Assignment_3.ipynb#X11sZmlsZQ%3D%3D?line=119'>120</a>\u001b[0m \u001b[39mprint\u001b[39m(\u001b[39m'\u001b[39m\u001b[39mInitial Feasible Point: \u001b[39m\u001b[39m'\u001b[39m, X)\n\u001b[1;32m    <a href='vscode-notebook-cell:/home/anshul/programming/Linear%20Optimization/03/Assignment_3.ipynb#X11sZmlsZQ%3D%3D?line=121'>122</a>\u001b[0m \u001b[39m# Run Simplex Algorithm and find optimal solution\u001b[39;00m\n",
      "\u001b[1;32m/home/anshul/programming/Linear Optimization/03/Assignment_3.ipynb Cell 8\u001b[0m line \u001b[0;36m3\n\u001b[1;32m     <a href='vscode-notebook-cell:/home/anshul/programming/Linear%20Optimization/03/Assignment_3.ipynb#X11sZmlsZQ%3D%3D?line=33'>34</a>\u001b[0m     temp_B[:rows_to_be_modified] \u001b[39m+\u001b[39m\u001b[39m=\u001b[39m np\u001b[39m.\u001b[39mrandom\u001b[39m.\u001b[39muniform(\n\u001b[1;32m     <a href='vscode-notebook-cell:/home/anshul/programming/Linear%20Optimization/03/Assignment_3.ipynb#X11sZmlsZQ%3D%3D?line=34'>35</a>\u001b[0m         \u001b[39m0.1\u001b[39m, \u001b[39m10\u001b[39m, size\u001b[39m=\u001b[39mrows_to_be_modified)\n\u001b[1;32m     <a href='vscode-notebook-cell:/home/anshul/programming/Linear%20Optimization/03/Assignment_3.ipynb#X11sZmlsZQ%3D%3D?line=36'>37</a>\u001b[0m \u001b[39m# If degeneracy is removed, Exit\u001b[39;00m\n\u001b[0;32m---> <a href='vscode-notebook-cell:/home/anshul/programming/Linear%20Optimization/03/Assignment_3.ipynb#X11sZmlsZQ%3D%3D?line=37'>38</a>\u001b[0m \u001b[39mif\u001b[39;00m \u001b[39mnot\u001b[39;00m is_degenerate(A, temp_B, C):\n\u001b[1;32m     <a href='vscode-notebook-cell:/home/anshul/programming/Linear%20Optimization/03/Assignment_3.ipynb#X11sZmlsZQ%3D%3D?line=38'>39</a>\u001b[0m     \u001b[39mprint\u001b[39m(\u001b[39m'\u001b[39m\u001b[39mDegeneracy removed\u001b[39m\u001b[39m'\u001b[39m)\n\u001b[1;32m     <a href='vscode-notebook-cell:/home/anshul/programming/Linear%20Optimization/03/Assignment_3.ipynb#X11sZmlsZQ%3D%3D?line=39'>40</a>\u001b[0m     \u001b[39mbreak\u001b[39;00m\n",
      "\u001b[1;32m/home/anshul/programming/Linear Optimization/03/Assignment_3.ipynb Cell 8\u001b[0m line \u001b[0;36m3\n\u001b[1;32m      <a href='vscode-notebook-cell:/home/anshul/programming/Linear%20Optimization/03/Assignment_3.ipynb#X11sZmlsZQ%3D%3D?line=0'>1</a>\u001b[0m \u001b[39mdef\u001b[39;00m \u001b[39mis_degenerate\u001b[39m(A, B, X):\n\u001b[1;32m      <a href='vscode-notebook-cell:/home/anshul/programming/Linear%20Optimization/03/Assignment_3.ipynb#X11sZmlsZQ%3D%3D?line=1'>2</a>\u001b[0m     \u001b[39m# Find number of rows satisfied by X with equality\u001b[39;00m\n\u001b[0;32m----> <a href='vscode-notebook-cell:/home/anshul/programming/Linear%20Optimization/03/Assignment_3.ipynb#X11sZmlsZQ%3D%3D?line=2'>3</a>\u001b[0m     equality_indices \u001b[39m=\u001b[39m np\u001b[39m.\u001b[39mwhere(np\u001b[39m.\u001b[39mabs(np\u001b[39m.\u001b[39;49mdot(A, X)\u001b[39m-\u001b[39mB) \u001b[39m<\u001b[39m EPS)[\u001b[39m0\u001b[39m]\n\u001b[1;32m      <a href='vscode-notebook-cell:/home/anshul/programming/Linear%20Optimization/03/Assignment_3.ipynb#X11sZmlsZQ%3D%3D?line=4'>5</a>\u001b[0m     \u001b[39m# If number of rows is not equal to number of variables\u001b[39;00m\n\u001b[1;32m      <a href='vscode-notebook-cell:/home/anshul/programming/Linear%20Optimization/03/Assignment_3.ipynb#X11sZmlsZQ%3D%3D?line=5'>6</a>\u001b[0m     \u001b[39m# It is degenerate(no unique solution)\u001b[39;00m\n\u001b[1;32m      <a href='vscode-notebook-cell:/home/anshul/programming/Linear%20Optimization/03/Assignment_3.ipynb#X11sZmlsZQ%3D%3D?line=6'>7</a>\u001b[0m     \u001b[39mif\u001b[39;00m \u001b[39mlen\u001b[39m(equality_indices) \u001b[39m==\u001b[39m A\u001b[39m.\u001b[39mshape[\u001b[39m1\u001b[39m]:\n",
      "File \u001b[0;32m<__array_function__ internals>:200\u001b[0m, in \u001b[0;36mdot\u001b[0;34m(*args, **kwargs)\u001b[0m\n",
      "\u001b[0;31mKeyboardInterrupt\u001b[0m: "
     ]
    }
   ],
   "source": [
    "def is_degenerate(A, B, X):\n",
    "    # Find number of rows satisfied by X with equality\n",
    "    equality_indices = np.where(np.abs(np.dot(A, X)-B) < EPS)[0]\n",
    "\n",
    "    # If number of rows is not equal to number of variables\n",
    "    # It is degenerate(no unique solution)\n",
    "    if len(equality_indices) == A.shape[1]:\n",
    "        return False\n",
    "    return True\n",
    "\n",
    "\n",
    "def make_non_degenerate(A, B, C):\n",
    "    # Consider the last m - n rows of B vector\n",
    "    # Add a very small random value to these rows\n",
    "    # such that they doesn't satisfy the equality condition(AX = B)\n",
    "    # and hence can get unique feasible point(point satisfying only the first n independent rows)\n",
    "    # Try it until unique feasible point is possible\n",
    "\n",
    "    # last m - n rows\n",
    "    rows_to_be_modified = A.shape[0]-A.shape[1]\n",
    "\n",
    "    num_iter = 0\n",
    "    while True:\n",
    "        if(num_iter < 1000):\n",
    "            num_iter += 1\n",
    "\n",
    "            # add a small random value to each of these rows\n",
    "            temp_B = B\n",
    "            temp_B[:rows_to_be_modified] += np.random.uniform(\n",
    "                EPS, EPS*10, size=rows_to_be_modified)\n",
    "        else:\n",
    "            # add a small random value to each of these rows\n",
    "            temp_B = B\n",
    "            temp_B[:rows_to_be_modified] += np.random.uniform(\n",
    "                0.1, 10, size=rows_to_be_modified)\n",
    "\n",
    "        # If degeneracy is removed, Exit\n",
    "        if not is_degenerate(A, temp_B, C):\n",
    "            print('Degeneracy removed')\n",
    "            break\n",
    "    return A, temp_B, C\n",
    "\n",
    "def get_neighbour(A, B, C, X):\n",
    "    # Get direction vectors of vertex X\n",
    "    Z = get_direction(A, B, C, X)\n",
    "\n",
    "    # Find costs through these directions\n",
    "    costs = np.dot(Z, C)\n",
    "\n",
    "    # Find Directions with positive costs\n",
    "    positive_cost_directions = np.where(costs > 0)[0]\n",
    "\n",
    "    # If there are no more positive cost directions available\n",
    "    # the present vertex is optimal\n",
    "    if len(positive_cost_directions) == 0:\n",
    "        return None\n",
    "    else:\n",
    "        # Consider positive cost direction vector\n",
    "        v = Z[positive_cost_directions[0]]\n",
    "\n",
    "        # If there is no bound in the present direction\n",
    "        if len(np.where(np.dot(A, v) > 0)[0]) == 0:\n",
    "            print('Given LP is Unbounded')\n",
    "            exit()\n",
    "\n",
    "        # Find A'' = Matrix of rows other than satisfied by X with equality\n",
    "        # B'' = Corresponding B values of above rows\n",
    "        equality_indices = np.where(np.abs(np.dot(A, X)-B) < EPS)[0]\n",
    "        not_equality_indices = ~np.isin(np.arange(len(A)), equality_indices)\n",
    "        not_equal_A = A[not_equality_indices]\n",
    "        not_equal_B = B[not_equality_indices]\n",
    "\n",
    "        # Find maximum t in feasible neighbour(X + tv)\n",
    "        n = not_equal_B - np.dot(not_equal_A, X)\n",
    "        d = np.dot(not_equal_A, v)\n",
    "        n = n[np.where(d > 0)[0]]\n",
    "        d = d[np.where(d > 0)[0]]\n",
    "        s = n/d\n",
    "        t = np.min(s[s >= 0])\n",
    "\n",
    "        # Return the maximum feasible neighbour of X\n",
    "        return X + t*v\n",
    "\n",
    "\n",
    "def get_direction(A, B, X):\n",
    "    # Find A' = Matrix of n linearly independent rows\n",
    "    # which are satisfied by X with equality\n",
    "    equality_indices = np.where(np.abs(np.dot(A, X)-B) < EPS)[0]\n",
    "    A_bar = A[equality_indices]\n",
    "\n",
    "    # Find Z = Matrix having direction vectors as columns\n",
    "    Z = -np.linalg.inv(np.transpose(A_bar))\n",
    "\n",
    "    return Z\n",
    "\n",
    "\n",
    "def SimplexAlgorithm(A, B, C, X):\n",
    "    while True:\n",
    "        # Find neighbour with greater cost\n",
    "        V = get_neighbour(A, B, C, X)\n",
    "\n",
    "        # If the neighbour isn't available\n",
    "        # the present vertex is the optimal\n",
    "        # else move to neighbour\n",
    "        if V is None:\n",
    "            break\n",
    "        else:\n",
    "            X = V\n",
    "            print(f\"Vertex visited: {X}\")\n",
    "    return X\n",
    "\n",
    "\n",
    "def main():\n",
    "    # Take input from input.csv\n",
    "    A,b,c,X = read_csv()\n",
    "\n",
    "    # Change Input to non degenerate\n",
    "    A,b,c = make_non_degenerate(A,b,c)\n",
    "\n",
    "    print('Initial Feasible Point: ', X)\n",
    "\n",
    "    # Run Simplex Algorithm and find optimal solution\n",
    "    X = SimplexAlgorithm(A, b, c, X)\n",
    "    print('The Solution is :', X)\n",
    "    print('The Maximum Value is: ', np.dot(c, X))\n",
    "\n",
    "\n",
    "if __name__ == \"__main__\":\n",
    "    main()"
   ]
  }
 ],
 "metadata": {
  "kernelspec": {
   "display_name": ".pyvenv",
   "language": "python",
   "name": "python3"
  },
  "language_info": {
   "codemirror_mode": {
    "name": "ipython",
    "version": 3
   },
   "file_extension": ".py",
   "mimetype": "text/x-python",
   "name": "python",
   "nbconvert_exporter": "python",
   "pygments_lexer": "ipython3",
   "version": "3.8.10"
  }
 },
 "nbformat": 4,
 "nbformat_minor": 2
}
