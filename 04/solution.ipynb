{
 "cells": [
  {
   "cell_type": "markdown",
   "metadata": {},
   "source": [
    "# Linear Optimization (CS5040) Assignment 4\n",
    "\n",
    "## Authors\n",
    "\n",
    "| Name | Roll Number |\n",
    "|-|-|\n",
    "| Gautam Singh | CS21BTECH11018 |\n",
    "| Varun Gupta | CS21BTECH11060 |\n",
    "| Anshul Sangrame | CS21BTECH11004 |"
   ]
  },
  {
   "cell_type": "markdown",
   "metadata": {},
   "source": [
    "## Setup"
   ]
  },
  {
   "cell_type": "code",
   "execution_count": 56,
   "metadata": {},
   "outputs": [
    {
     "name": "stdout",
     "output_type": "stream",
     "text": [
      "Requirement already satisfied: numpy in /home/goatsadmin/.pyvenv/lib/python3.10/site-packages (1.25.2)\n",
      "Requirement already satisfied: sympy in /home/goatsadmin/.pyvenv/lib/python3.10/site-packages (1.12)\n",
      "Requirement already satisfied: mpmath>=0.19 in /home/goatsadmin/.pyvenv/lib/python3.10/site-packages (from sympy) (1.3.0)\n",
      "Note: you may need to restart the kernel to use updated packages.\n"
     ]
    }
   ],
   "source": [
    "# Install libraries\n",
    "%pip install numpy sympy\n",
    "\n",
    "# Import libraries\n",
    "import numpy as np\n",
    "import sympy"
   ]
  },
  {
   "cell_type": "markdown",
   "metadata": {},
   "source": [
    "## Handling Input"
   ]
  },
  {
   "cell_type": "code",
   "execution_count": 57,
   "metadata": {},
   "outputs": [],
   "source": [
    "# Read CSV file input into a numpy array\n",
    "\n",
    "# Modify input file path here\n",
    "INPUT_FILE = '../data/input.csv'\n",
    "\n",
    "# Modify delimiter for CSV file here\n",
    "DELIMITER = ','\n",
    "\n",
    "# Take input from CSV file\n",
    "input_arr = np.genfromtxt(INPUT_FILE, delimiter=DELIMITER, skip_header=0)\n",
    "\n",
    "# Extract data from input array\n",
    "m_, n_ = input_arr.shape\n",
    "\n",
    "# Values of m and n\n",
    "m = m_ - 1\n",
    "n = n_ - 1\n",
    "\n",
    "# Values of A, b, c\n",
    "A = input_arr[1:, :-1]\n",
    "b = input_arr[1:, -1]\n",
    "c = input_arr[0, :-1]\n",
    "\n",
    "# Check for bad inputs, and exit if so\n",
    "if np.isnan(np.min(A)) or np.isnan(np.min(b)) or np.isnan(np.min(c)):\n",
    "    print(\"ERROR: Bad input\")\n",
    "    exit(-1)"
   ]
  },
  {
   "cell_type": "markdown",
   "metadata": {},
   "source": [
    "## Finding an Initial Point\n",
    "\n",
    "We do not find an internal point in the polytope $A$, instead we solve for a\n",
    "candidate vertex of $A$ by solving for the linearly independent rows."
   ]
  },
  {
   "cell_type": "code",
   "execution_count": 58,
   "metadata": {},
   "outputs": [
    {
     "name": "stdout",
     "output_type": "stream",
     "text": [
      "[1. 2.]\n"
     ]
    }
   ],
   "source": [
    "''' \n",
    "To find a basic feasible solution (BFS) \n",
    "\n",
    "1. Find n linearly independent rows of A, call this matrix A_L. Let A_L @ x =\n",
    "   b_L. \n",
    "2. Compute initial vertex x = A_L^(-1) @ b_L.\n",
    "'''\n",
    "\n",
    "_, li_row_ind = sympy.Matrix(A).T.rref()\n",
    "li_row_ind = np.asarray(li_row_ind)\n",
    "A_L = A[li_row_ind]\n",
    "b_L = b[li_row_ind]\n",
    "x0 = np.linalg.inv(A_L)@b_L\n",
    "print(x0)"
   ]
  },
  {
   "cell_type": "markdown",
   "metadata": {},
   "source": [
    "## Finding the Optimal Vertex"
   ]
  },
  {
   "cell_type": "code",
   "execution_count": 59,
   "metadata": {},
   "outputs": [],
   "source": [
    "def simplex_solver(A, b, c):\n",
    "    pass"
   ]
  }
 ],
 "metadata": {
  "kernelspec": {
   "display_name": ".pyvenv",
   "language": "python",
   "name": "python3"
  },
  "language_info": {
   "codemirror_mode": {
    "name": "ipython",
    "version": 3
   },
   "file_extension": ".py",
   "mimetype": "text/x-python",
   "name": "python",
   "nbconvert_exporter": "python",
   "pygments_lexer": "ipython3",
   "version": "3.10.12"
  }
 },
 "nbformat": 4,
 "nbformat_minor": 2
}
