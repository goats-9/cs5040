{
 "cells": [
  {
   "cell_type": "markdown",
   "metadata": {},
   "source": [
    "# CS5040 Assignment 4\n",
    "\n",
    "## Authors\n",
    "\n",
    "| Name | Roll Number |\n",
    "|-|-|\n",
    "| Gautam Singh | CS21BTECH11018 |\n",
    "| Varun Gupta | CS21BTECH11060 |\n",
    "| Anshul Sangrame | CS21BTECH11004 |"
   ]
  },
  {
   "cell_type": "markdown",
   "metadata": {},
   "source": [
    "## Setup"
   ]
  },
  {
   "cell_type": "code",
   "execution_count": 35,
   "metadata": {},
   "outputs": [
    {
     "name": "stdout",
     "output_type": "stream",
     "text": [
      "Requirement already satisfied: numpy in /home/goatsadmin/.pyvenv/lib/python3.10/site-packages (1.25.2)\n",
      "Note: you may need to restart the kernel to use updated packages.\n"
     ]
    }
   ],
   "source": [
    "# Install libraries\n",
    "%pip install numpy\n",
    "\n",
    "# Import libraries\n",
    "import numpy as np"
   ]
  },
  {
   "cell_type": "markdown",
   "metadata": {},
   "source": [
    "## Handling Input"
   ]
  },
  {
   "cell_type": "code",
   "execution_count": 36,
   "metadata": {},
   "outputs": [],
   "source": [
    "# Read CSV file input into a numpy array\n",
    "\n",
    "# Modify input file path here\n",
    "INPUT_FILE = '../data/input.csv'\n",
    "\n",
    "# Modify delimiter for CSV file here\n",
    "DELIMITER = ','\n",
    "\n",
    "# Take input from CSV file\n",
    "input_arr = np.genfromtxt(INPUT_FILE, delimiter=DELIMITER, skip_header=0)\n",
    "\n",
    "# Extract data from input array\n",
    "m_, n_ = input_arr.shape\n",
    "\n",
    "# Values of m and n\n",
    "m = m_ - 1\n",
    "n = n_ - 1\n",
    "\n",
    "# Values of A, b, c\n",
    "A = input_arr[1:, :-1]\n",
    "b = input_arr[1:, -1]\n",
    "c = input_arr[0, :-1]"
   ]
  },
  {
   "cell_type": "markdown",
   "metadata": {},
   "source": [
    "## Finding an Initial Point"
   ]
  },
  {
   "cell_type": "code",
   "execution_count": null,
   "metadata": {},
   "outputs": [],
   "source": []
  },
  {
   "cell_type": "markdown",
   "metadata": {},
   "source": [
    "## Finding a Vertex of the Polytope"
   ]
  },
  {
   "cell_type": "code",
   "execution_count": null,
   "metadata": {},
   "outputs": [],
   "source": []
  },
  {
   "cell_type": "markdown",
   "metadata": {},
   "source": [
    "## Finding the Optimal Vertex"
   ]
  },
  {
   "cell_type": "code",
   "execution_count": null,
   "metadata": {},
   "outputs": [],
   "source": []
  }
 ],
 "metadata": {
  "kernelspec": {
   "display_name": ".pyvenv",
   "language": "python",
   "name": "python3"
  },
  "language_info": {
   "codemirror_mode": {
    "name": "ipython",
    "version": 3
   },
   "file_extension": ".py",
   "mimetype": "text/x-python",
   "name": "python",
   "nbconvert_exporter": "python",
   "pygments_lexer": "ipython3",
   "version": "3.10.12"
  }
 },
 "nbformat": 4,
 "nbformat_minor": 2
}
