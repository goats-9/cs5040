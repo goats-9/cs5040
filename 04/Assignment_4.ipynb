{
 "cells": [
  {
   "cell_type": "markdown",
   "metadata": {},
   "source": [
    "# Linear Optimization (CS5040) Assignment 4\n",
    "\n",
    "## Authors\n",
    "\n",
    "| Name | Roll Number |\n",
    "|-|-|\n",
    "| Gautam Singh | CS21BTECH11018 |\n",
    "| Varun Gupta | CS21BTECH11060 |\n",
    "| Anshul Sangrame | CS21BTECH11004 |"
   ]
  },
  {
   "cell_type": "markdown",
   "metadata": {},
   "source": [
    "## Setup"
   ]
  },
  {
   "cell_type": "code",
   "execution_count": 394,
   "metadata": {},
   "outputs": [
    {
     "name": "stdout",
     "output_type": "stream",
     "text": [
      "Requirement already satisfied: numpy in /home/goatsadmin/.pyvenv/lib/python3.10/site-packages (1.25.2)\n",
      "Note: you may need to restart the kernel to use updated packages.\n"
     ]
    }
   ],
   "source": [
    "# Install libraries\n",
    "%pip install numpy\n",
    "\n",
    "# Import libraries\n",
    "import numpy as np"
   ]
  },
  {
   "cell_type": "code",
   "execution_count": 395,
   "metadata": {},
   "outputs": [],
   "source": [
    "# Parameters to run the program go here\n",
    "INPUT_FILE = '../data/input_04.csv'    # Input file path\n",
    "DELIMITER = ','                     # Delimiter in input file"
   ]
  },
  {
   "cell_type": "markdown",
   "metadata": {},
   "source": [
    "## Input Handling"
   ]
  },
  {
   "cell_type": "code",
   "execution_count": 396,
   "metadata": {},
   "outputs": [],
   "source": [
    "def handle_input(fname: str, delimiter: str=',') -> (np.ndarray, np.ndarray, np.ndarray):\n",
    "    \"\"\"\n",
    "    Handle input from CSV file.\n",
    "    \"\"\"\n",
    "    # Take input from CSV file into numpy array\n",
    "    input_arr = np.genfromtxt(INPUT_FILE, delimiter=DELIMITER, skip_header=0)\n",
    "\n",
    "    # Values of A, b, c\n",
    "    A = input_arr[1:, :-1]\n",
    "    b = input_arr[1:, -1]\n",
    "    c = input_arr[0, :-1]\n",
    "\n",
    "    # Check for bad inputs, and exit if found\n",
    "    if np.any(np.isnan(A)):\n",
    "        raise IOError('Matrix A contains bad input:', A)\n",
    "    if np.any(np.isnan(b)):\n",
    "        raise IOError('Matrix b contains bad input:', b)\n",
    "    if np.any(np.isnan(c)):\n",
    "        raise IOError('Matrix c contains bad input:', c)\n",
    "    # Values of m and n\n",
    "    m, n = A.shape\n",
    "    # Check if A is full rank\n",
    "    if np.linalg.matrix_rank(A) != n:\n",
    "        raise np.linalg.LinAlgError('Matrix A is not full rank:', A)\n",
    "    return A, b, c"
   ]
  },
  {
   "cell_type": "markdown",
   "metadata": {},
   "source": [
    "## Finding an Initial Point"
   ]
  },
  {
   "cell_type": "code",
   "execution_count": 397,
   "metadata": {},
   "outputs": [],
   "source": [
    "def find_initial_point(\n",
    "    A: np.ndarray,\n",
    "    b: np.ndarray,\n",
    "    c: np.ndarray,\n",
    "    n_iter: int=1000000,\n",
    ") -> np.ndarray:\n",
    "    \"\"\"\n",
    "    Function to find initial vertex to start simplex algorithm\n",
    "    \"\"\"\n",
    "    # Make n_iter random choices of n rows and solve for a candidate initial\n",
    "    # point if they are linearly independent.\n",
    "    m, n = A.shape\n",
    "    rng = np.random.default_rng()\n",
    "    for i in range(n_iter):\n",
    "        # Get randomly chosen rows\n",
    "        idx = rng.choice(m,n,replace=False)\n",
    "        A_test = A[idx]\n",
    "        b_test = b[idx]\n",
    "        # Check for linear independence\n",
    "        if np.linalg.matrix_rank(A_test) == n:\n",
    "            # Find candidate initial point\n",
    "            X_candidate = np.linalg.inv(A_test)@b_test\n",
    "            # Check if all inequalities are satisfied, and return the candidate\n",
    "            # point if so.\n",
    "            if np.all(A@X_candidate <= b):\n",
    "                return X_candidate\n",
    "    # Raise error in case initial point is not found.\n",
    "    raise RuntimeError('Could not find initial point in', n_iter, 'attempt(s).')"
   ]
  },
  {
   "cell_type": "markdown",
   "metadata": {},
   "source": [
    "## Handling Degeneracy"
   ]
  },
  {
   "cell_type": "code",
   "execution_count": 398,
   "metadata": {},
   "outputs": [],
   "source": [
    "def isdegenerate(\n",
    "    A: np.ndarray,\n",
    "    b: np.ndarray,\n",
    "    c: np.ndarray\n",
    ") -> bool:\n",
    "    \"\"\"\n",
    "    Method to check if the given linear programming problem is degenerate.        \n",
    "    \"\"\"\n",
    "    m, n = A.shape\n",
    "    # Consider a feasible solution\n",
    "    X_check = find_initial_point(A, b, c)\n",
    "    # If number of tight rows is not equal to n, then the problem is degenerate.\n",
    "    if np.isclose(A@X_check, b).sum() == n:\n",
    "        return False\n",
    "    return True\n",
    "\n",
    "def perturb(\n",
    "    A: np.ndarray, \n",
    "    b: np.ndarray, \n",
    "    c: np.ndarray,\n",
    "    eps: float=1e-3,\n",
    "    n_iter: int=1000,\n",
    ") -> (np.ndarray, np.ndarray, np.ndarray):\n",
    "    \"\"\"\n",
    "    Method to remove degeneracy by perturbing the last m-n rows of b by a\n",
    "    small value if needed.\n",
    "    \"\"\"\n",
    "    # Do not perturb if nondegenerate\n",
    "    if not isdegenerate(A, b, c):\n",
    "        return A, b, c\n",
    "    # Find dimensions of A\n",
    "    m, n = A.shape\n",
    "    # Initialize a random number generator\n",
    "    rng = np.random.default_rng()\n",
    "    # Perturb for certain number of iterations\n",
    "    while n_iter:\n",
    "        _b = b\n",
    "        # Choose a small value to add at random\n",
    "        eps_rng = rng.uniform(eps, 10*eps)\n",
    "        b[n:] += eps_rng**np.arange(1,m-n+1)\n",
    "        # Return if not degenerate\n",
    "        if not isdegenerate(A, b, c):\n",
    "            return A, _b, c\n",
    "        n_iter -= 1\n",
    "    # Raise error if perturbation fails\n",
    "    raise RuntimeError('Could not perturb the linear programming problem')"
   ]
  },
  {
   "cell_type": "markdown",
   "metadata": {},
   "source": [
    "## Finding the Optimal Vertex"
   ]
  },
  {
   "cell_type": "code",
   "execution_count": 399,
   "metadata": {},
   "outputs": [],
   "source": [
    "def vertex_directions(\n",
    "    A: np.ndarray,\n",
    "    b: np.ndarray,\n",
    "    c: np.ndarray,\n",
    "    v: np.ndarray,\n",
    ") -> np.ndarray:\n",
    "    \"\"\"\n",
    "    Function to find directions of the other vertices of the polytope from given\n",
    "    vertex.\n",
    "    \"\"\"\n",
    "    tight_rows = np.where(np.isclose(A@v, b))\n",
    "    A1 = A[tight_rows]\n",
    "    return -np.linalg.inv(A1.T)\n",
    "\n",
    "def simplex_neighbour(\n",
    "    A: np.ndarray,\n",
    "    b: np.ndarray,\n",
    "    c: np.ndarray,\n",
    "    u: np.ndarray,\n",
    ") -> np.ndarray | None:\n",
    "    \"\"\"\n",
    "    Function to find a neighbouring vertex with greater cost, or report that\n",
    "    there is no such neighbour.\n",
    "    \"\"\"\n",
    "    # Find directions to other vertices\n",
    "    z = vertex_directions(A, b, c, u)\n",
    "\n",
    "    # Find costs for each direction\n",
    "    costs = z@c\n",
    "\n",
    "    # Find directions which give positive cost\n",
    "    costs_positive = np.where(costs > 0)[0]\n",
    "    \n",
    "    # If there are no such directions, declare optimality\n",
    "    if len(costs_positive) == 0:\n",
    "        return None\n",
    "    else:\n",
    "        # Get any direction with positive cost\n",
    "        v = z[costs_positive[0]]\n",
    "\n",
    "        # Check for unboundedness. If A@v keeps decreasing in that direction,\n",
    "        # then the LP is unbounded.\n",
    "        if len(np.where(A@v > 0)) == 0:\n",
    "            raise np.linalg.LinAlgError('LP is unbounded.')\n",
    "\n",
    "        # Find untight rows\n",
    "        untight_rows = np.where(~np.isclose(A@u, b))\n",
    "        A2 = A[untight_rows]\n",
    "        b2 = b[untight_rows]\n",
    "\n",
    "        # Find feasible neighbour and required coefficients\n",
    "        # Coefficients are (b2 - A2@u)/(A2@v)\n",
    "        alpha = (b2-A2@u)/(A2@v)\n",
    "        t = np.min(alpha[alpha >= 0])\n",
    "        return u + t*v\n",
    "\n",
    "def simplex(\n",
    "    A: np.ndarray,\n",
    "    b: np.ndarray,\n",
    "    c: np.ndarray,\n",
    "    u: np.ndarray,\n",
    "    n_iter: int=1000,\n",
    ") -> np.ndarray:\n",
    "    \"\"\" \n",
    "    Function to implement the simplex algorithm.\n",
    "    \"\"\"\n",
    "    while n_iter:\n",
    "        # Display vertex and cost\n",
    "        print(u, c.T@u)\n",
    "        # Find neighbour of a greater cost\n",
    "        u1 = simplex_neighbour(A, b, c, u)\n",
    "        if u1 is None:\n",
    "            return u\n",
    "        else:\n",
    "            u = u1\n",
    "        n_iter -= 1"
   ]
  },
  {
   "cell_type": "code",
   "execution_count": 400,
   "metadata": {},
   "outputs": [
    {
     "name": "stdout",
     "output_type": "stream",
     "text": [
      "[0. 0.] 0.0\n",
      "[6. 0.] 6.0\n",
      "[7.28571429 2.57142857] 12.428571428571429\n"
     ]
    }
   ],
   "source": [
    "if __name__ == \"__main__\":\n",
    "    A, b, c = handle_input(INPUT_FILE, DELIMITER)\n",
    "    A, b, c = perturb(A, b, c)\n",
    "    u = find_initial_point(A, b, c)\n",
    "    simplex(A, b, c, u)"
   ]
  }
 ],
 "metadata": {
  "kernelspec": {
   "display_name": ".pyvenv",
   "language": "python",
   "name": "python3"
  },
  "language_info": {
   "codemirror_mode": {
    "name": "ipython",
    "version": 3
   },
   "file_extension": ".py",
   "mimetype": "text/x-python",
   "name": "python",
   "nbconvert_exporter": "python",
   "pygments_lexer": "ipython3",
   "version": "3.10.12"
  }
 },
 "nbformat": 4,
 "nbformat_minor": 2
}
