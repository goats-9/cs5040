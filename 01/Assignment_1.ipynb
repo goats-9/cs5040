{
 "cells": [
  {
   "cell_type": "markdown",
   "metadata": {},
   "source": [
    "# Linear Optimization (CS5040) Assignment 4\n",
    "\n",
    "## Authors\n",
    "\n",
    "| Name | Roll Number |\n",
    "|-|-|\n",
    "| Gautam Singh | CS21BTECH11018 |\n",
    "| Varun Gupta | CS21BTECH11060 |\n",
    "| Anshul Sangrame | CS21BTECH11004 |"
   ]
  },
  {
   "cell_type": "markdown",
   "metadata": {},
   "source": [
    "## Setup"
   ]
  },
  {
   "cell_type": "code",
   "execution_count": 6,
   "metadata": {},
   "outputs": [
    {
     "name": "stdout",
     "output_type": "stream",
     "text": [
      "Requirement already satisfied: numpy in /home/goatsadmin/.pyvenv/lib/python3.10/site-packages (1.25.2)\n",
      "Note: you may need to restart the kernel to use updated packages.\n"
     ]
    }
   ],
   "source": [
    "# Install libraries\n",
    "%pip install numpy\n",
    "\n",
    "# Import libraries\n",
    "import numpy as np"
   ]
  },
  {
   "cell_type": "code",
   "execution_count": 7,
   "metadata": {},
   "outputs": [],
   "source": [
    "# Parameters to run the program go here\n",
    "INPUT_FILE = '../data/input_01.csv'    # Input file path\n",
    "DELIMITER = ','                     # Delimiter in input file"
   ]
  },
  {
   "cell_type": "markdown",
   "metadata": {},
   "source": [
    "## Input Handling"
   ]
  },
  {
   "cell_type": "code",
   "execution_count": 8,
   "metadata": {},
   "outputs": [],
   "source": [
    "def handle_input(\n",
    "    fname: str, \n",
    "    delimiter: str=',',\n",
    ") -> (np.ndarray, np.ndarray, np.ndarray, np.ndarray):\n",
    "    \"\"\"\n",
    "    Handle input from CSV file.\n",
    "    \"\"\"\n",
    "    # Take input from CSV file into numpy array\n",
    "    input_arr = np.genfromtxt(INPUT_FILE, delimiter=DELIMITER, skip_header=0)\n",
    "\n",
    "    # Values of A, b, c, z\n",
    "    A = input_arr[2:, :-1]\n",
    "    b = input_arr[2:, -1]\n",
    "    c = input_arr[1, :-1]\n",
    "    z = input_arr[0, :-1]\n",
    "\n",
    "    # Check for bad inputs, and exit if found\n",
    "    if np.any(np.isnan(A)):\n",
    "        raise IOError('Matrix A contains bad input:', A)\n",
    "    if np.any(np.isnan(b)):\n",
    "        raise IOError('Matrix b contains bad input:', b)\n",
    "    if np.any(np.isnan(c)):\n",
    "        raise IOError('Matrix c contains bad input:', c)\n",
    "    if np.any(np.isnan(z)):\n",
    "        raise IOError('Matrix z contains bad input:', z)\n",
    "    # Values of m and n\n",
    "    m, n = A.shape\n",
    "    # Check if A is full rank\n",
    "    if np.linalg.matrix_rank(A) != n:\n",
    "        raise np.linalg.LinAlgError('Matrix A is not full rank:', A)\n",
    "    return A, b, c, z"
   ]
  },
  {
   "cell_type": "markdown",
   "metadata": {},
   "source": [
    "## Finding the Optimal Vertex"
   ]
  },
  {
   "cell_type": "code",
   "execution_count": 9,
   "metadata": {},
   "outputs": [],
   "source": [
    "def vertex_directions(\n",
    "    A: np.ndarray,\n",
    "    b: np.ndarray,\n",
    "    c: np.ndarray,\n",
    "    v: np.ndarray,\n",
    ") -> np.ndarray:\n",
    "    \"\"\"\n",
    "    Function to find directions of the other vertices of the polytope from given\n",
    "    vertex.\n",
    "    \"\"\"\n",
    "    tight_rows = np.where(np.isclose(A@v, b))\n",
    "    A1 = A[tight_rows]\n",
    "    return -np.linalg.inv(A1.T)\n",
    "\n",
    "def simplex_neighbour(\n",
    "    A: np.ndarray,\n",
    "    b: np.ndarray,\n",
    "    c: np.ndarray,\n",
    "    u: np.ndarray,\n",
    ") -> np.ndarray | None:\n",
    "    \"\"\"\n",
    "    Function to find a neighbouring vertex with greater cost, or report that\n",
    "    there is no such neighbour.\n",
    "    \"\"\"\n",
    "    # Find directions to other vertices\n",
    "    z = vertex_directions(A, b, c, u)\n",
    "\n",
    "    # Find costs for each direction\n",
    "    costs = z@c\n",
    "\n",
    "    # Find directions which give positive cost\n",
    "    costs_positive = np.where(costs > 0)[0]\n",
    "    \n",
    "    # If there are no such directions, declare optimality\n",
    "    if len(costs_positive) == 0:\n",
    "        return None\n",
    "    else:\n",
    "        # Get any direction with positive cost\n",
    "        v = z[costs_positive[0]]\n",
    "\n",
    "        # Check for unboundedness. If A@v keeps decreasing in that direction,\n",
    "        # then the LP is unbounded.\n",
    "        print(v, A@v)\n",
    "        if len(np.where(A@v > 0)) == 0:\n",
    "            raise np.linalg.LinAlgError('LP is unbounded.')\n",
    "\n",
    "        # Find untight rows\n",
    "        untight_rows = np.where(~np.isclose(A@u, b))\n",
    "        A2 = A[untight_rows]\n",
    "        b2 = b[untight_rows]\n",
    "\n",
    "        # Find feasible neighbour and required coefficients\n",
    "        # Coefficients are (b2 - A2@u)/(A2@v)\n",
    "        alpha = (b2-A2@u)/(A2@v)\n",
    "        t = np.min(alpha[alpha >= 0])\n",
    "        return u + t*v\n",
    "\n",
    "def simplex(\n",
    "    A: np.ndarray,\n",
    "    b: np.ndarray,\n",
    "    c: np.ndarray,\n",
    "    u: np.ndarray,\n",
    "    n_iter: int=1000,\n",
    ") -> np.ndarray:\n",
    "    \"\"\" \n",
    "    Function to implement the simplex algorithm.\n",
    "    \"\"\"\n",
    "    while n_iter:\n",
    "        # Display vertex and cost\n",
    "        print(u, c.T@u)\n",
    "        # Find neighbour of a greater cost\n",
    "        u1 = simplex_neighbour(A, b, c, u)\n",
    "        if u1 is None:\n",
    "            return u\n",
    "        else:\n",
    "            u = u1\n",
    "        n_iter -= 1"
   ]
  },
  {
   "cell_type": "code",
   "execution_count": 10,
   "metadata": {},
   "outputs": [
    {
     "name": "stdout",
     "output_type": "stream",
     "text": [
      "[10.  0.] 20.0\n",
      "[30. 20.] 80.0\n"
     ]
    },
    {
     "ename": "ValueError",
     "evalue": "zero-size array to reduction operation minimum which has no identity",
     "output_type": "error",
     "traceback": [
      "\u001b[0;31m---------------------------------------------------------------------------\u001b[0m",
      "\u001b[0;31mValueError\u001b[0m                                Traceback (most recent call last)",
      "\u001b[1;32m/home/goatsadmin/Documents/repos/iith-coursework/cs/cs5040/01/Assignment_1.ipynb Cell 9\u001b[0m line \u001b[0;36m6\n\u001b[1;32m      <a href='vscode-notebook-cell://ssh-remote%2Bgoatserver/home/goatsadmin/Documents/repos/iith-coursework/cs/cs5040/01/Assignment_1.ipynb#X15sdnNjb2RlLXJlbW90ZQ%3D%3D?line=3'>4</a>\u001b[0m \u001b[39mif\u001b[39;00m \u001b[39mnot\u001b[39;00m np\u001b[39m.\u001b[39mall(A\u001b[39m@z\u001b[39m \u001b[39m<\u001b[39m\u001b[39m=\u001b[39m b):\n\u001b[1;32m      <a href='vscode-notebook-cell://ssh-remote%2Bgoatserver/home/goatsadmin/Documents/repos/iith-coursework/cs/cs5040/01/Assignment_1.ipynb#X15sdnNjb2RlLXJlbW90ZQ%3D%3D?line=4'>5</a>\u001b[0m     \u001b[39mraise\u001b[39;00m \u001b[39mRuntimeError\u001b[39;00m(\u001b[39m'\u001b[39m\u001b[39mGiven starting point\u001b[39m\u001b[39m'\u001b[39m, z, \u001b[39m'\u001b[39m\u001b[39mis not feasible.\u001b[39m\u001b[39m'\u001b[39m)\n\u001b[0;32m----> <a href='vscode-notebook-cell://ssh-remote%2Bgoatserver/home/goatsadmin/Documents/repos/iith-coursework/cs/cs5040/01/Assignment_1.ipynb#X15sdnNjb2RlLXJlbW90ZQ%3D%3D?line=5'>6</a>\u001b[0m simplex(A, b, c, z)\n",
      "\u001b[1;32m/home/goatsadmin/Documents/repos/iith-coursework/cs/cs5040/01/Assignment_1.ipynb Cell 9\u001b[0m line \u001b[0;36m7\n\u001b[1;32m     <a href='vscode-notebook-cell://ssh-remote%2Bgoatserver/home/goatsadmin/Documents/repos/iith-coursework/cs/cs5040/01/Assignment_1.ipynb#X15sdnNjb2RlLXJlbW90ZQ%3D%3D?line=68'>69</a>\u001b[0m \u001b[39mprint\u001b[39m(u, c\u001b[39m.\u001b[39mT\u001b[39m@u\u001b[39m)\n\u001b[1;32m     <a href='vscode-notebook-cell://ssh-remote%2Bgoatserver/home/goatsadmin/Documents/repos/iith-coursework/cs/cs5040/01/Assignment_1.ipynb#X15sdnNjb2RlLXJlbW90ZQ%3D%3D?line=69'>70</a>\u001b[0m \u001b[39m# Find neighbour of a greater cost\u001b[39;00m\n\u001b[0;32m---> <a href='vscode-notebook-cell://ssh-remote%2Bgoatserver/home/goatsadmin/Documents/repos/iith-coursework/cs/cs5040/01/Assignment_1.ipynb#X15sdnNjb2RlLXJlbW90ZQ%3D%3D?line=70'>71</a>\u001b[0m u1 \u001b[39m=\u001b[39m simplex_neighbour(A, b, c, u)\n\u001b[1;32m     <a href='vscode-notebook-cell://ssh-remote%2Bgoatserver/home/goatsadmin/Documents/repos/iith-coursework/cs/cs5040/01/Assignment_1.ipynb#X15sdnNjb2RlLXJlbW90ZQ%3D%3D?line=71'>72</a>\u001b[0m \u001b[39mif\u001b[39;00m u1 \u001b[39mis\u001b[39;00m \u001b[39mNone\u001b[39;00m:\n\u001b[1;32m     <a href='vscode-notebook-cell://ssh-remote%2Bgoatserver/home/goatsadmin/Documents/repos/iith-coursework/cs/cs5040/01/Assignment_1.ipynb#X15sdnNjb2RlLXJlbW90ZQ%3D%3D?line=72'>73</a>\u001b[0m     \u001b[39mreturn\u001b[39;00m u\n",
      "\u001b[1;32m/home/goatsadmin/Documents/repos/iith-coursework/cs/cs5040/01/Assignment_1.ipynb Cell 9\u001b[0m line \u001b[0;36m5\n\u001b[1;32m     <a href='vscode-notebook-cell://ssh-remote%2Bgoatserver/home/goatsadmin/Documents/repos/iith-coursework/cs/cs5040/01/Assignment_1.ipynb#X15sdnNjb2RlLXJlbW90ZQ%3D%3D?line=50'>51</a>\u001b[0m \u001b[39m# Find feasible neighbour and required coefficients\u001b[39;00m\n\u001b[1;32m     <a href='vscode-notebook-cell://ssh-remote%2Bgoatserver/home/goatsadmin/Documents/repos/iith-coursework/cs/cs5040/01/Assignment_1.ipynb#X15sdnNjb2RlLXJlbW90ZQ%3D%3D?line=51'>52</a>\u001b[0m \u001b[39m# Coefficients are (b2 - A2@u)/(A2@v)\u001b[39;00m\n\u001b[1;32m     <a href='vscode-notebook-cell://ssh-remote%2Bgoatserver/home/goatsadmin/Documents/repos/iith-coursework/cs/cs5040/01/Assignment_1.ipynb#X15sdnNjb2RlLXJlbW90ZQ%3D%3D?line=52'>53</a>\u001b[0m alpha \u001b[39m=\u001b[39m (b2\u001b[39m-\u001b[39mA2\u001b[39m@u\u001b[39m)\u001b[39m/\u001b[39m(A2\u001b[39m@v\u001b[39m)\n\u001b[0;32m---> <a href='vscode-notebook-cell://ssh-remote%2Bgoatserver/home/goatsadmin/Documents/repos/iith-coursework/cs/cs5040/01/Assignment_1.ipynb#X15sdnNjb2RlLXJlbW90ZQ%3D%3D?line=53'>54</a>\u001b[0m t \u001b[39m=\u001b[39m np\u001b[39m.\u001b[39;49mmin(alpha[alpha \u001b[39m>\u001b[39;49m\u001b[39m=\u001b[39;49m \u001b[39m0\u001b[39;49m])\n\u001b[1;32m     <a href='vscode-notebook-cell://ssh-remote%2Bgoatserver/home/goatsadmin/Documents/repos/iith-coursework/cs/cs5040/01/Assignment_1.ipynb#X15sdnNjb2RlLXJlbW90ZQ%3D%3D?line=54'>55</a>\u001b[0m \u001b[39mreturn\u001b[39;00m u \u001b[39m+\u001b[39m t\u001b[39m*\u001b[39mv\n",
      "File \u001b[0;32m~/.pyvenv/lib/python3.10/site-packages/numpy/core/fromnumeric.py:2953\u001b[0m, in \u001b[0;36mmin\u001b[0;34m(a, axis, out, keepdims, initial, where)\u001b[0m\n\u001b[1;32m   2836\u001b[0m \u001b[39m@array_function_dispatch\u001b[39m(_min_dispatcher)\n\u001b[1;32m   2837\u001b[0m \u001b[39mdef\u001b[39;00m \u001b[39mmin\u001b[39m(a, axis\u001b[39m=\u001b[39m\u001b[39mNone\u001b[39;00m, out\u001b[39m=\u001b[39m\u001b[39mNone\u001b[39;00m, keepdims\u001b[39m=\u001b[39mnp\u001b[39m.\u001b[39m_NoValue, initial\u001b[39m=\u001b[39mnp\u001b[39m.\u001b[39m_NoValue,\n\u001b[1;32m   2838\u001b[0m         where\u001b[39m=\u001b[39mnp\u001b[39m.\u001b[39m_NoValue):\n\u001b[1;32m   2839\u001b[0m \u001b[39m    \u001b[39m\u001b[39m\"\"\"\u001b[39;00m\n\u001b[1;32m   2840\u001b[0m \u001b[39m    Return the minimum of an array or minimum along an axis.\u001b[39;00m\n\u001b[1;32m   2841\u001b[0m \n\u001b[0;32m   (...)\u001b[0m\n\u001b[1;32m   2951\u001b[0m \u001b[39m    6\u001b[39;00m\n\u001b[1;32m   2952\u001b[0m \u001b[39m    \"\"\"\u001b[39;00m\n\u001b[0;32m-> 2953\u001b[0m     \u001b[39mreturn\u001b[39;00m _wrapreduction(a, np\u001b[39m.\u001b[39;49mminimum, \u001b[39m'\u001b[39;49m\u001b[39mmin\u001b[39;49m\u001b[39m'\u001b[39;49m, axis, \u001b[39mNone\u001b[39;49;00m, out,\n\u001b[1;32m   2954\u001b[0m                           keepdims\u001b[39m=\u001b[39;49mkeepdims, initial\u001b[39m=\u001b[39;49minitial, where\u001b[39m=\u001b[39;49mwhere)\n",
      "File \u001b[0;32m~/.pyvenv/lib/python3.10/site-packages/numpy/core/fromnumeric.py:88\u001b[0m, in \u001b[0;36m_wrapreduction\u001b[0;34m(obj, ufunc, method, axis, dtype, out, **kwargs)\u001b[0m\n\u001b[1;32m     85\u001b[0m         \u001b[39melse\u001b[39;00m:\n\u001b[1;32m     86\u001b[0m             \u001b[39mreturn\u001b[39;00m reduction(axis\u001b[39m=\u001b[39maxis, out\u001b[39m=\u001b[39mout, \u001b[39m*\u001b[39m\u001b[39m*\u001b[39mpasskwargs)\n\u001b[0;32m---> 88\u001b[0m \u001b[39mreturn\u001b[39;00m ufunc\u001b[39m.\u001b[39;49mreduce(obj, axis, dtype, out, \u001b[39m*\u001b[39;49m\u001b[39m*\u001b[39;49mpasskwargs)\n",
      "\u001b[0;31mValueError\u001b[0m: zero-size array to reduction operation minimum which has no identity"
     ]
    }
   ],
   "source": [
    "if __name__ == \"__main__\":\n",
    "    A, b, c, z = handle_input(INPUT_FILE, DELIMITER)\n",
    "    # Check if z is feasible\n",
    "    if not np.all(A@z <= b):\n",
    "        raise RuntimeError('Given starting point', z, 'is not feasible.')\n",
    "    simplex(A, b, c, z)"
   ]
  }
 ],
 "metadata": {
  "kernelspec": {
   "display_name": ".pyvenv",
   "language": "python",
   "name": "python3"
  },
  "language_info": {
   "codemirror_mode": {
    "name": "ipython",
    "version": 3
   },
   "file_extension": ".py",
   "mimetype": "text/x-python",
   "name": "python",
   "nbconvert_exporter": "python",
   "pygments_lexer": "ipython3",
   "version": "3.10.12"
  }
 },
 "nbformat": 4,
 "nbformat_minor": 2
}
