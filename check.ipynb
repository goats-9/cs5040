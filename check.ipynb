{
 "cells": [
  {
   "cell_type": "code",
   "execution_count": 52,
   "metadata": {},
   "outputs": [],
   "source": [
    "import scipy\n",
    "import numpy as np"
   ]
  },
  {
   "cell_type": "markdown",
   "metadata": {},
   "source": [
    "# Cross Checking for Simplex Algorithm\n",
    "\n",
    "The following `.ipynb` file is to cross check the result with our algorithm"
   ]
  },
  {
   "cell_type": "code",
   "execution_count": 53,
   "metadata": {},
   "outputs": [],
   "source": [
    "# Parameters to run the program go here\n",
    "ASSGN = 4\n",
    "INPUT_FILE = './data/04/2.csv'    # Input file path\n",
    "DELIMITER = ','                     # Delimiter in input file"
   ]
  },
  {
   "cell_type": "code",
   "execution_count": 54,
   "metadata": {},
   "outputs": [],
   "source": [
    "def handle_input(\n",
    "    fname: str, \n",
    "    delimiter: str=',',\n",
    ") -> (np.ndarray, np.ndarray, np.ndarray, np.ndarray):\n",
    "    \"\"\"\n",
    "    Handle input from CSV file.\n",
    "    \"\"\"\n",
    "    # Take input from CSV file into numpy array\n",
    "    input_arr = np.genfromtxt(INPUT_FILE, delimiter=DELIMITER, skip_header=0)\n",
    "\n",
    "    # Values of A, b, c, z\n",
    "    A = input_arr[2:, :-1]\n",
    "    b = input_arr[2:, -1]\n",
    "    c = input_arr[1, :-1]\n",
    "    z = input_arr[0, :-1]\n",
    "\n",
    "    # Check for bad inputs, and exit if found\n",
    "    if np.any(np.isnan(A)):\n",
    "        raise IOError('Matrix A contains bad input:', A)\n",
    "    if np.any(np.isnan(b)):\n",
    "        raise IOError('Matrix b contains bad input:', b)\n",
    "    if np.any(np.isnan(c)):\n",
    "        raise IOError('Matrix c contains bad input:', c)\n",
    "    if np.any(np.isnan(z)):\n",
    "        raise IOError('Matrix z contains bad input:', z)\n",
    "    # Values of m and n\n",
    "    m, n = A.shape\n",
    "    # Check if A is full rank\n",
    "    if np.linalg.matrix_rank(A) != n:\n",
    "        raise np.linalg.LinAlgError('Matrix A is not full rank:', A)\n",
    "    return A, b, c, z\n",
    "def handle_input2(fname: str, delimiter: str=',') -> (np.ndarray, np.ndarray, np.ndarray):\n",
    "    \"\"\"\n",
    "    Handle input from CSV file.\n",
    "    \"\"\"\n",
    "    # Take input from CSV file into numpy array\n",
    "    input_arr = np.genfromtxt(INPUT_FILE, delimiter=DELIMITER, skip_header=0)\n",
    "\n",
    "    # Values of A, b, c\n",
    "    A = input_arr[1:, :-1]\n",
    "    b = input_arr[1:, -1]\n",
    "    c = input_arr[0, :-1]\n",
    "\n",
    "    # Check for bad inputs, and exit if found\n",
    "    if np.any(np.isnan(A)):\n",
    "        raise IOError('Matrix A contains bad input:', A)\n",
    "    if np.any(np.isnan(b)):\n",
    "        raise IOError('Matrix b contains bad input:', b)\n",
    "    if np.any(np.isnan(c)):\n",
    "        raise IOError('Matrix c contains bad input:', c)\n",
    "    # Values of m and n\n",
    "    m, n = A.shape\n",
    "    # Check if A is full rank\n",
    "    if np.linalg.matrix_rank(A) != n:\n",
    "        raise np.linalg.LinAlgError('Matrix A is not full rank:', A)\n",
    "    return A, b, c"
   ]
  },
  {
   "cell_type": "code",
   "execution_count": 55,
   "metadata": {},
   "outputs": [
    {
     "name": "stdout",
     "output_type": "stream",
     "text": [
      "Running HiGHS 1.2.0 [date: 2021-07-09, git hash: n/a]\n",
      "Copyright (c) 2022 ERGO-Code under MIT licence terms\n",
      "Presolving model\n",
      "2 rows, 2 cols, 4 nonzeros\n",
      "2 rows, 2 cols, 4 nonzeros\n",
      "Presolve : Reductions: rows 2(-2); columns 2(-0); elements 4(-2)\n",
      "Solving the presolved LP\n",
      "Using EKK dual simplex solver - serial\n",
      "  Iteration        Objective     Infeasibilities num(sum)\n",
      "          0    -1.1999989687e+01 Ph1: 2(8); Du: 2(12) 0s\n",
      "          2    -1.8000000000e+01 Pr: 0(0) 0s\n",
      "Solving the original LP from the solution after postsolve\n",
      "Model   status      : Optimal\n",
      "Simplex   iterations: 2\n",
      "Objective value     : -1.8000000000e+01\n",
      "HiGHS run time      :          0.00\n"
     ]
    }
   ],
   "source": [
    "if __name__ == \"__main__\":\n",
    "    try:\n",
    "        if (ASSGN == 4):\n",
    "            A,b,c = handle_input2(INPUT_FILE, DELIMITER)\n",
    "        else:\n",
    "            A, b, c, z = handle_input(INPUT_FILE, DELIMITER)\n",
    "        \n",
    "        # Check if z is feasible\n",
    "        if ASSGN < 4 and not np.all(A@z <= b):\n",
    "            raise RuntimeError('Given starting point', z, 'is not feasible.')\n",
    "        res = scipy.optimize.linprog(-c, A_ub=A, b_ub=b, options={'disp': True})\n",
    "    except BaseException as error:\n",
    "        print(f'An exception occurred: {error}')"
   ]
  }
 ],
 "metadata": {
  "kernelspec": {
   "display_name": "venv",
   "language": "python",
   "name": "python3"
  },
  "language_info": {
   "codemirror_mode": {
    "name": "ipython",
    "version": 3
   },
   "file_extension": ".py",
   "mimetype": "text/x-python",
   "name": "python",
   "nbconvert_exporter": "python",
   "pygments_lexer": "ipython3",
   "version": "3.8.10"
  }
 },
 "nbformat": 4,
 "nbformat_minor": 2
}
